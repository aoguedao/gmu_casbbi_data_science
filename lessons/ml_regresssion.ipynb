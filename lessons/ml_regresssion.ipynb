{
 "cells": [
  {
   "cell_type": "markdown",
   "metadata": {},
   "source": [
    "# ML - Regression"
   ]
  },
  {
   "cell_type": "code",
   "execution_count": null,
   "metadata": {},
   "outputs": [],
   "source": [
    "import numpy as np\n",
    "import pandas as pd\n",
    "import matplotlib.pyplot as plt\n",
    "import seaborn as sns\n",
    "\n",
    "from sklearn import datasets\n",
    "\n",
    "sns.set_theme(style=\"whitegrid\")\n",
    "\n",
    "%matplotlib inline"
   ]
  },
  {
   "cell_type": "markdown",
   "metadata": {},
   "source": [
    "## Motivation"
   ]
  },
  {
   "cell_type": "markdown",
   "metadata": {},
   "source": [
    "Ten baseline variables, age, sex, body mass index, average blood pressure, and six blood serum measurements were obtained for each of n = 442 diabetes patients, as well as the response of interest, a quantitative measure of disease progression one year after baseline.\n",
    "\n",
    "Source: https://scikit-learn.org/stable/datasets/toy_dataset.html#diabetes-dataset"
   ]
  },
  {
   "cell_type": "code",
   "execution_count": null,
   "metadata": {},
   "outputs": [],
   "source": [
    "diabetes_X, diabetes_y = datasets.load_diabetes(return_X_y=True, as_frame=True)\n",
    "diabetes = pd.concat([diabetes_X, diabetes_y], axis=1)\n",
    "diabetes.head()"
   ]
  },
  {
   "cell_type": "markdown",
   "metadata": {},
   "source": [
    "First 10 columns are numeric predictive values\n",
    "\n",
    "Column 11 is a quantitative measure of disease progression one year after baseline\n",
    "\n",
    "\n",
    "| Feature       | Description     |\n",
    "| :------------- | :----------: |\n",
    "| age | age in years|\n",
    "| sex | sex |\n",
    "| bmi | body mass index|\n",
    "| bp | average blood pressure|\n",
    "| s1 | tc, T-Cells (a type of white blood cells)|\n",
    "| s2 | ldl, low-density lipoproteins|\n",
    "| s3 | hdl, high-density lipoproteins|\n",
    "| s4 | tch, thyroid stimulating hormone|\n",
    "| s5 | ltg, lamotrigine|\n",
    "| s6 | glu, blood sugar level|\n",
    "\n",
    "Note: Each of these 10 feature variables have been mean centered and scaled by the standard deviation times the square root of n_samples (i.e. the sum of squares of each column totals 1)."
   ]
  },
  {
   "cell_type": "code",
   "execution_count": null,
   "metadata": {},
   "outputs": [],
   "source": [
    "diabetes.describe().T"
   ]
  },
  {
   "cell_type": "code",
   "execution_count": null,
   "metadata": {},
   "outputs": [],
   "source": [
    "diabetes.apply(np.linalg.norm)"
   ]
  },
  {
   "cell_type": "code",
   "execution_count": null,
   "metadata": {},
   "outputs": [],
   "source": [
    "sns.pairplot(diabetes)"
   ]
  },
  {
   "cell_type": "markdown",
   "metadata": {
    "slideshow": {
     "slide_type": "slide"
    }
   },
   "source": [
    "## Linear Regression"
   ]
  },
  {
   "cell_type": "code",
   "execution_count": null,
   "metadata": {},
   "outputs": [],
   "source": [
    "from sklearn.linear_model import LinearRegression\n",
    "\n",
    "model = LinearRegression()\n",
    "model.fit(diabetes_X, diabetes_y)\n",
    "print(f\"Coefficients:\\n {model.coef_.T}\\n\")\n",
    "print(f\"Score: {model.score(diabetes_X, diabetes_y)}\")\n"
   ]
  },
  {
   "cell_type": "code",
   "execution_count": null,
   "metadata": {},
   "outputs": [],
   "source": [
    "%%timeit\n",
    "LinearRegression().fit(diabetes_X, diabetes_y)"
   ]
  },
  {
   "cell_type": "code",
   "execution_count": null,
   "metadata": {},
   "outputs": [],
   "source": [
    "y_pred = model.predict(diabetes_X)\n",
    "line = np.arange(0, diabetes_y.max(), 0.1)\n",
    "\n",
    "fig, ax = plt.subplots(figsize=(6.5, 6.5))\n",
    "sns.scatterplot(\n",
    "    x=diabetes_y,\n",
    "    y=y_pred,\n",
    "    ax=ax\n",
    ")\n",
    "ax.axis(\"equal\")\n",
    "ax.set_xlabel(\"y_true\")\n",
    "ax.set_ylabel(\"y_pred\")\n",
    "ax.set_title(\"Prediction vs True Values\")\n",
    "sns.lineplot(x=line, y=line, color=\"red\", ax=ax)\n",
    "fig.show()"
   ]
  },
  {
   "cell_type": "markdown",
   "metadata": {},
   "source": [
    "## Ridge Regression"
   ]
  },
  {
   "cell_type": "code",
   "execution_count": null,
   "metadata": {},
   "outputs": [],
   "source": [
    "from sklearn.linear_model import Ridge\n",
    "\n",
    "ridge_model = Ridge(alpha=0.5)\n",
    "ridge_model.fit(diabetes_X, diabetes_y)\n",
    "print(f\"Coefficients:\\n {ridge_model.coef_.T}\\n\")\n",
    "print(f\"Score: {ridge_model.score(diabetes_X, diabetes_y)}\")"
   ]
  },
  {
   "cell_type": "markdown",
   "metadata": {},
   "source": [
    "## Lasso Regression"
   ]
  },
  {
   "cell_type": "code",
   "execution_count": null,
   "metadata": {},
   "outputs": [],
   "source": [
    "from sklearn.linear_model import Lasso\n",
    "\n",
    "lasso_model = Lasso(alpha=0.5)\n",
    "lasso_model.fit(diabetes_X, diabetes_y)\n",
    "print(f\"Coefficients:\\n {lasso_model.coef_.T}\\n\")\n",
    "print(f\"Score: {lasso_model.score(diabetes_X, diabetes_y)}\")"
   ]
  },
  {
   "cell_type": "markdown",
   "metadata": {},
   "source": [
    "## Elastic-Net Regression"
   ]
  },
  {
   "cell_type": "code",
   "execution_count": null,
   "metadata": {},
   "outputs": [],
   "source": [
    "from sklearn.linear_model import ElasticNet\n",
    "\n",
    "elasticnet_model = ElasticNet(alpha=0.5, l1_ratio=0.4)\n",
    "elasticnet_model.fit(diabetes_X, diabetes_y)\n",
    "print(f\"Coefficients:\\n {elasticnet_model.coef_.T}\\n\")\n",
    "print(f\"Score: {elasticnet_model.score(diabetes_X, diabetes_y)}\")"
   ]
  },
  {
   "cell_type": "markdown",
   "metadata": {},
   "source": [
    "## Decision Tree"
   ]
  },
  {
   "cell_type": "markdown",
   "metadata": {},
   "source": [
    "Tree-based methods are non-parametric models that involve stratifying or segmenting the predictor space into a number of simple regions. They are conceptually simple yet powerful. Its name comes from the fact that the set of splitting rules used to segment the predictor space can be summarized in a tree."
   ]
  },
  {
   "cell_type": "code",
   "execution_count": null,
   "metadata": {},
   "outputs": [],
   "source": [
    "from sklearn.tree import DecisionTreeRegressor\n",
    "\n",
    "decision_tree_model = DecisionTreeRegressor(\n",
    "    min_samples_leaf=0.01,\n",
    "    random_state=42\n",
    ")\n",
    "decision_tree_model.fit(diabetes_X, diabetes_y)\n",
    "# print(f\"Coefficients:\\n {decision_tree_model.coef_.T}\\n\")\n",
    "print(f\"Score: {decision_tree_model.score(diabetes_X, diabetes_y)}\")"
   ]
  },
  {
   "cell_type": "markdown",
   "metadata": {},
   "source": [
    "## Random Forest"
   ]
  },
  {
   "cell_type": "markdown",
   "metadata": {},
   "source": [
    "It is an ensemble approach that combines many simple block-models in order to obtain a single, and potentially very powerful model. Blocks are decision trees in which each tree uses a random sample of predictors."
   ]
  },
  {
   "cell_type": "code",
   "execution_count": null,
   "metadata": {},
   "outputs": [],
   "source": [
    "from sklearn.ensemble import RandomForestRegressor\n",
    "\n",
    "random_forest_model =  RandomForestRegressor(\n",
    "    n_estimators=100,\n",
    "    random_state=42\n",
    ")\n",
    "random_forest_model.fit(diabetes_X, diabetes_y)\n",
    "print(f\"Score: {random_forest_model.score(diabetes_X, diabetes_y)}\")"
   ]
  }
 ],
 "metadata": {
  "kernelspec": {
   "display_name": "Python 3.9.13 ('pinn')",
   "language": "python",
   "name": "python3"
  },
  "language_info": {
   "codemirror_mode": {
    "name": "ipython",
    "version": 3
   },
   "file_extension": ".py",
   "mimetype": "text/x-python",
   "name": "python",
   "nbconvert_exporter": "python",
   "pygments_lexer": "ipython3",
   "version": "3.9.13"
  },
  "orig_nbformat": 4,
  "vscode": {
   "interpreter": {
    "hash": "b495ef8c557e1213b070efa440d5756e52b9d742e01b39c369ce0fdb1e54097c"
   }
  }
 },
 "nbformat": 4,
 "nbformat_minor": 2
}
