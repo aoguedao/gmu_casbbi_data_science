{
 "cells": [
  {
   "cell_type": "markdown",
   "metadata": {},
   "source": [
    "# ML - Clustering"
   ]
  },
  {
   "cell_type": "markdown",
   "metadata": {},
   "source": [
    "## Motivation"
   ]
  },
  {
   "cell_type": "markdown",
   "metadata": {},
   "source": [
    "![Develop Countries](../images/developed_countries.png)\n",
    "\n",
    "World map showing country classifications as per the IMF (International Monetary Fund) and the UN (United Nations) (last updated 2022).\n",
    "\n",
    "- Blue: Developed countries\n",
    "- Orange: Developing countries\n",
    "- Red: Least developed countries\n",
    "- Gray: Data unavailable\n",
    "\n",
    "Most commonly, the criteria for evaluating the degree of economic development are gross domestic product (GDP), gross national product (GNP), the per capita income, level of industrialization, amount of widespread infrastructure and general standard of living.\n",
    "\n",
    "Question: Can we categorize countries based on these features without having labels from the beginning? Why are there only three categories? \n",
    "\n",
    "Answer: Clustering! This is how we categorize elements without previous labels."
   ]
  },
  {
   "cell_type": "markdown",
   "metadata": {},
   "source": [
    "## K-means"
   ]
  },
  {
   "cell_type": "markdown",
   "metadata": {},
   "source": [
    "### LLoyd Algorithm"
   ]
  },
  {
   "cell_type": "markdown",
   "metadata": {},
   "source": [
    "1. Compute the centroid of the cluster by averaging the positions of the elements currently in the cluster.\n",
    "2. Update cluster label of the elements using the closest distance to each centroid.\n",
    "\n",
    "\n",
    "In this case, one video is worth more than a thousand pictures."
   ]
  },
  {
   "cell_type": "code",
   "execution_count": null,
   "metadata": {},
   "outputs": [],
   "source": [
    "from IPython.display import YouTubeVideo\n",
    "YouTubeVideo(\"5I3Ei69I40s\")"
   ]
  },
  {
   "cell_type": "code",
   "execution_count": null,
   "metadata": {},
   "outputs": [],
   "source": [
    "import numpy as np\n",
    "import pandas as pd\n",
    "\n",
    "from pathlib import Path"
   ]
  },
  {
   "cell_type": "code",
   "execution_count": null,
   "metadata": {},
   "outputs": [],
   "source": [
    "filepath = \"https://raw.githubusercontent.com/aoguedao/gmu_casbbi_data_science/main/data/gapminder.csv\"\n",
    "# filepath = Path().resolve().parent / \"data\" / \"gapminder.csv\"  # If you are running locally\n",
    "data = pd.read_csv(filepath, usecols=[1, 5, 6])\n",
    "data.head()"
   ]
  },
  {
   "cell_type": "code",
   "execution_count": null,
   "metadata": {},
   "outputs": [],
   "source": [
    "from sklearn.cluster import KMeans\n",
    "\n",
    "K = 3\n",
    "kmeans = KMeans(n_clusters=K)\n",
    "kmeans.fit(data.drop(columns=\"country\"))"
   ]
  },
  {
   "cell_type": "code",
   "execution_count": null,
   "metadata": {},
   "outputs": [],
   "source": [
    "data[\"label\"] = kmeans.labels_\n",
    "data.head()"
   ]
  },
  {
   "cell_type": "code",
   "execution_count": null,
   "metadata": {},
   "outputs": [],
   "source": [
    "data.query(\"label == 0\")"
   ]
  },
  {
   "cell_type": "code",
   "execution_count": null,
   "metadata": {},
   "outputs": [],
   "source": [
    "data.query(\"label == 1\")"
   ]
  },
  {
   "cell_type": "code",
   "execution_count": null,
   "metadata": {},
   "outputs": [],
   "source": [
    "data.query(\"label == 2\")"
   ]
  },
  {
   "cell_type": "markdown",
   "metadata": {},
   "source": [
    "### Another Example"
   ]
  },
  {
   "cell_type": "markdown",
   "metadata": {},
   "source": [
    "We can compress images using clustering by reducing the number of bytes."
   ]
  },
  {
   "cell_type": "code",
   "execution_count": null,
   "metadata": {},
   "outputs": [],
   "source": [
    "from PIL import Image\n",
    "import requests\n",
    "\n",
    "url = \"https://raw.githubusercontent.com/aoguedao/gmu_casbbi_data_science/main/images/coyoya.jpg\"\n",
    "im_filapath = requests.get(url,stream=True).raw\n",
    "# im_filepath = Path().resolve().parent / \"images\" / \"coyoya.jpg\"  # If you are running locally\n",
    "im = Image.open(im_filapath)\n",
    "im"
   ]
  },
  {
   "cell_type": "code",
   "execution_count": null,
   "metadata": {},
   "outputs": [],
   "source": [
    "K = 8  # Number of clusters\n",
    "X = np.array(im.getdata())  # Array with image values\n",
    "kmeans = KMeans(n_clusters=K)\n",
    "kmeans.fit(X)\n",
    "compressed_array = kmeans.cluster_centers_[kmeans.predict(X)]  # Prediction \n",
    "im_compressed = compressed_array.astype(np.uint8).reshape(im.size[1], im.size[0], 3)  # New image\n",
    "Image.fromarray(im_compressed, mode=\"RGB\")"
   ]
  }
 ],
 "metadata": {
  "kernelspec": {
   "display_name": "Python 3.9.13 ('pinn')",
   "language": "python",
   "name": "python3"
  },
  "language_info": {
   "codemirror_mode": {
    "name": "ipython",
    "version": 3
   },
   "file_extension": ".py",
   "mimetype": "text/x-python",
   "name": "python",
   "nbconvert_exporter": "python",
   "pygments_lexer": "ipython3",
   "version": "3.9.13"
  },
  "orig_nbformat": 4,
  "vscode": {
   "interpreter": {
    "hash": "b495ef8c557e1213b070efa440d5756e52b9d742e01b39c369ce0fdb1e54097c"
   }
  }
 },
 "nbformat": 4,
 "nbformat_minor": 2
}
