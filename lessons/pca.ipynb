{
 "cells": [
  {
   "cell_type": "code",
   "execution_count": 1,
   "metadata": {},
   "outputs": [],
   "source": [
    "import numpy as np\n",
    "import matplotlib.pyplot as plt\n",
    "import pandas as pd\n",
    "import seaborn as sns\n",
    "\n",
    "from sklearn.decomposition import PCA"
   ]
  },
  {
   "cell_type": "code",
   "execution_count": 5,
   "metadata": {},
   "outputs": [
    {
     "data": {
      "text/html": [
       "<div>\n",
       "<style scoped>\n",
       "    .dataframe tbody tr th:only-of-type {\n",
       "        vertical-align: middle;\n",
       "    }\n",
       "\n",
       "    .dataframe tbody tr th {\n",
       "        vertical-align: top;\n",
       "    }\n",
       "\n",
       "    .dataframe thead th {\n",
       "        text-align: right;\n",
       "    }\n",
       "</style>\n",
       "<table border=\"1\" class=\"dataframe\">\n",
       "  <thead>\n",
       "    <tr style=\"text-align: right;\">\n",
       "      <th></th>\n",
       "      <th>Average Yrsof Schooling</th>\n",
       "      <th>Good Air Quality Index</th>\n",
       "      <th>High Employment Access</th>\n",
       "      <th>High Health Care Access</th>\n",
       "      <th>Income Equality GINI</th>\n",
       "      <th>Job Participation High Labor Force</th>\n",
       "      <th>Less Deprived Area Townsend Index</th>\n",
       "      <th>LILA Food Access</th>\n",
       "      <th>More Affordability Index</th>\n",
       "      <th>More Walkability Environment Index</th>\n",
       "      <th>Pop WeightedDensity</th>\n",
       "      <th>Racial Dissimilarity Index</th>\n",
       "      <th>Stables Pop Churning</th>\n",
       "    </tr>\n",
       "  </thead>\n",
       "  <tbody>\n",
       "    <tr>\n",
       "      <th>0</th>\n",
       "      <td>0.734770</td>\n",
       "      <td>0.670121</td>\n",
       "      <td>0.123707</td>\n",
       "      <td>0.464408</td>\n",
       "      <td>0.485695</td>\n",
       "      <td>0.823</td>\n",
       "      <td>0.325624</td>\n",
       "      <td>0.066698</td>\n",
       "      <td>0.576577</td>\n",
       "      <td>0.328239</td>\n",
       "      <td>0.150295</td>\n",
       "      <td>0.915115</td>\n",
       "      <td>0.756997</td>\n",
       "    </tr>\n",
       "    <tr>\n",
       "      <th>1</th>\n",
       "      <td>0.724919</td>\n",
       "      <td>0.616082</td>\n",
       "      <td>0.141960</td>\n",
       "      <td>0.465968</td>\n",
       "      <td>0.456410</td>\n",
       "      <td>0.796</td>\n",
       "      <td>0.298161</td>\n",
       "      <td>0.066698</td>\n",
       "      <td>0.510511</td>\n",
       "      <td>0.168022</td>\n",
       "      <td>0.298571</td>\n",
       "      <td>0.831974</td>\n",
       "      <td>0.756997</td>\n",
       "    </tr>\n",
       "    <tr>\n",
       "      <th>2</th>\n",
       "      <td>0.734893</td>\n",
       "      <td>0.643210</td>\n",
       "      <td>0.125980</td>\n",
       "      <td>0.444859</td>\n",
       "      <td>0.508232</td>\n",
       "      <td>0.764</td>\n",
       "      <td>0.292209</td>\n",
       "      <td>0.066698</td>\n",
       "      <td>0.521522</td>\n",
       "      <td>0.224218</td>\n",
       "      <td>0.148553</td>\n",
       "      <td>0.760879</td>\n",
       "      <td>0.606870</td>\n",
       "    </tr>\n",
       "    <tr>\n",
       "      <th>3</th>\n",
       "      <td>0.747167</td>\n",
       "      <td>0.580366</td>\n",
       "      <td>0.134115</td>\n",
       "      <td>0.442811</td>\n",
       "      <td>0.512821</td>\n",
       "      <td>0.831</td>\n",
       "      <td>0.195270</td>\n",
       "      <td>0.066698</td>\n",
       "      <td>0.523524</td>\n",
       "      <td>0.266507</td>\n",
       "      <td>0.666856</td>\n",
       "      <td>0.748035</td>\n",
       "      <td>0.786260</td>\n",
       "    </tr>\n",
       "    <tr>\n",
       "      <th>4</th>\n",
       "      <td>0.802269</td>\n",
       "      <td>0.804316</td>\n",
       "      <td>0.088873</td>\n",
       "      <td>0.442811</td>\n",
       "      <td>0.430364</td>\n",
       "      <td>0.616</td>\n",
       "      <td>0.305863</td>\n",
       "      <td>0.066698</td>\n",
       "      <td>0.619620</td>\n",
       "      <td>0.283657</td>\n",
       "      <td>0.193837</td>\n",
       "      <td>0.913189</td>\n",
       "      <td>0.805344</td>\n",
       "    </tr>\n",
       "  </tbody>\n",
       "</table>\n",
       "</div>"
      ],
      "text/plain": [
       "   Average Yrsof Schooling  Good Air Quality Index  High Employment Access  \\\n",
       "0                 0.734770                0.670121                0.123707   \n",
       "1                 0.724919                0.616082                0.141960   \n",
       "2                 0.734893                0.643210                0.125980   \n",
       "3                 0.747167                0.580366                0.134115   \n",
       "4                 0.802269                0.804316                0.088873   \n",
       "\n",
       "   High Health Care Access  Income Equality GINI  \\\n",
       "0                 0.464408              0.485695   \n",
       "1                 0.465968              0.456410   \n",
       "2                 0.444859              0.508232   \n",
       "3                 0.442811              0.512821   \n",
       "4                 0.442811              0.430364   \n",
       "\n",
       "   Job Participation High Labor Force  Less Deprived Area Townsend Index  \\\n",
       "0                               0.823                           0.325624   \n",
       "1                               0.796                           0.298161   \n",
       "2                               0.764                           0.292209   \n",
       "3                               0.831                           0.195270   \n",
       "4                               0.616                           0.305863   \n",
       "\n",
       "   LILA Food Access  More Affordability Index  \\\n",
       "0          0.066698                  0.576577   \n",
       "1          0.066698                  0.510511   \n",
       "2          0.066698                  0.521522   \n",
       "3          0.066698                  0.523524   \n",
       "4          0.066698                  0.619620   \n",
       "\n",
       "   More Walkability Environment Index  Pop WeightedDensity  \\\n",
       "0                            0.328239             0.150295   \n",
       "1                            0.168022             0.298571   \n",
       "2                            0.224218             0.148553   \n",
       "3                            0.266507             0.666856   \n",
       "4                            0.283657             0.193837   \n",
       "\n",
       "   Racial Dissimilarity Index  Stables Pop Churning  \n",
       "0                    0.915115              0.756997  \n",
       "1                    0.831974              0.756997  \n",
       "2                    0.760879              0.606870  \n",
       "3                    0.748035              0.786260  \n",
       "4                    0.913189              0.805344  "
      ]
     },
     "execution_count": 5,
     "metadata": {},
     "output_type": "execute_result"
    }
   ],
   "source": [
    "data_filepath = \"https://raw.githubusercontent.com/aoguedao/gmu_casbbi_data_science/main/data/vact.csv\"\n",
    "data = pd.read_csv(data_filepath).iloc[:, 5:18]\n",
    "data.head()"
   ]
  },
  {
   "cell_type": "code",
   "execution_count": null,
   "metadata": {},
   "outputs": [
    {
     "data": {
      "text/plain": [
       "(1886, 13)"
      ]
     },
     "metadata": {},
     "output_type": "display_data"
    }
   ],
   "source": [
    "data.shape"
   ]
  },
  {
   "cell_type": "code",
   "execution_count": 10,
   "metadata": {},
   "outputs": [
    {
     "data": {
      "text/html": [
       "<div>\n",
       "<style scoped>\n",
       "    .dataframe tbody tr th:only-of-type {\n",
       "        vertical-align: middle;\n",
       "    }\n",
       "\n",
       "    .dataframe tbody tr th {\n",
       "        vertical-align: top;\n",
       "    }\n",
       "\n",
       "    .dataframe thead th {\n",
       "        text-align: right;\n",
       "    }\n",
       "</style>\n",
       "<table border=\"1\" class=\"dataframe\">\n",
       "  <thead>\n",
       "    <tr style=\"text-align: right;\">\n",
       "      <th></th>\n",
       "      <th>Average Yrsof Schooling</th>\n",
       "      <th>Good Air Quality Index</th>\n",
       "      <th>High Employment Access</th>\n",
       "      <th>Income Equality GINI</th>\n",
       "      <th>Job Participation High Labor Force</th>\n",
       "      <th>Less Deprived Area Townsend Index</th>\n",
       "      <th>LILA Food Access</th>\n",
       "      <th>More Affordability Index</th>\n",
       "      <th>More Walkability Environment Index</th>\n",
       "      <th>Pop WeightedDensity</th>\n",
       "      <th>Racial Dissimilarity Index</th>\n",
       "      <th>Stables Pop Churning</th>\n",
       "    </tr>\n",
       "  </thead>\n",
       "  <tbody>\n",
       "    <tr>\n",
       "      <th>0</th>\n",
       "      <td>0.734770</td>\n",
       "      <td>0.670121</td>\n",
       "      <td>0.123707</td>\n",
       "      <td>0.485695</td>\n",
       "      <td>0.823</td>\n",
       "      <td>0.325624</td>\n",
       "      <td>0.066698</td>\n",
       "      <td>0.576577</td>\n",
       "      <td>0.328239</td>\n",
       "      <td>0.150295</td>\n",
       "      <td>0.915115</td>\n",
       "      <td>0.756997</td>\n",
       "    </tr>\n",
       "    <tr>\n",
       "      <th>1</th>\n",
       "      <td>0.724919</td>\n",
       "      <td>0.616082</td>\n",
       "      <td>0.141960</td>\n",
       "      <td>0.456410</td>\n",
       "      <td>0.796</td>\n",
       "      <td>0.298161</td>\n",
       "      <td>0.066698</td>\n",
       "      <td>0.510511</td>\n",
       "      <td>0.168022</td>\n",
       "      <td>0.298571</td>\n",
       "      <td>0.831974</td>\n",
       "      <td>0.756997</td>\n",
       "    </tr>\n",
       "    <tr>\n",
       "      <th>2</th>\n",
       "      <td>0.734893</td>\n",
       "      <td>0.643210</td>\n",
       "      <td>0.125980</td>\n",
       "      <td>0.508232</td>\n",
       "      <td>0.764</td>\n",
       "      <td>0.292209</td>\n",
       "      <td>0.066698</td>\n",
       "      <td>0.521522</td>\n",
       "      <td>0.224218</td>\n",
       "      <td>0.148553</td>\n",
       "      <td>0.760879</td>\n",
       "      <td>0.606870</td>\n",
       "    </tr>\n",
       "    <tr>\n",
       "      <th>3</th>\n",
       "      <td>0.747167</td>\n",
       "      <td>0.580366</td>\n",
       "      <td>0.134115</td>\n",
       "      <td>0.512821</td>\n",
       "      <td>0.831</td>\n",
       "      <td>0.195270</td>\n",
       "      <td>0.066698</td>\n",
       "      <td>0.523524</td>\n",
       "      <td>0.266507</td>\n",
       "      <td>0.666856</td>\n",
       "      <td>0.748035</td>\n",
       "      <td>0.786260</td>\n",
       "    </tr>\n",
       "    <tr>\n",
       "      <th>4</th>\n",
       "      <td>0.802269</td>\n",
       "      <td>0.804316</td>\n",
       "      <td>0.088873</td>\n",
       "      <td>0.430364</td>\n",
       "      <td>0.616</td>\n",
       "      <td>0.305863</td>\n",
       "      <td>0.066698</td>\n",
       "      <td>0.619620</td>\n",
       "      <td>0.283657</td>\n",
       "      <td>0.193837</td>\n",
       "      <td>0.913189</td>\n",
       "      <td>0.805344</td>\n",
       "    </tr>\n",
       "  </tbody>\n",
       "</table>\n",
       "</div>"
      ],
      "text/plain": [
       "   Average Yrsof Schooling  Good Air Quality Index  High Employment Access  \\\n",
       "0                 0.734770                0.670121                0.123707   \n",
       "1                 0.724919                0.616082                0.141960   \n",
       "2                 0.734893                0.643210                0.125980   \n",
       "3                 0.747167                0.580366                0.134115   \n",
       "4                 0.802269                0.804316                0.088873   \n",
       "\n",
       "   Income Equality GINI  Job Participation High Labor Force  \\\n",
       "0              0.485695                               0.823   \n",
       "1              0.456410                               0.796   \n",
       "2              0.508232                               0.764   \n",
       "3              0.512821                               0.831   \n",
       "4              0.430364                               0.616   \n",
       "\n",
       "   Less Deprived Area Townsend Index  LILA Food Access  \\\n",
       "0                           0.325624          0.066698   \n",
       "1                           0.298161          0.066698   \n",
       "2                           0.292209          0.066698   \n",
       "3                           0.195270          0.066698   \n",
       "4                           0.305863          0.066698   \n",
       "\n",
       "   More Affordability Index  More Walkability Environment Index  \\\n",
       "0                  0.576577                            0.328239   \n",
       "1                  0.510511                            0.168022   \n",
       "2                  0.521522                            0.224218   \n",
       "3                  0.523524                            0.266507   \n",
       "4                  0.619620                            0.283657   \n",
       "\n",
       "   Pop WeightedDensity  Racial Dissimilarity Index  Stables Pop Churning  \n",
       "0             0.150295                    0.915115              0.756997  \n",
       "1             0.298571                    0.831974              0.756997  \n",
       "2             0.148553                    0.760879              0.606870  \n",
       "3             0.666856                    0.748035              0.786260  \n",
       "4             0.193837                    0.913189              0.805344  "
      ]
     },
     "execution_count": 10,
     "metadata": {},
     "output_type": "execute_result"
    }
   ],
   "source": [
    "X = data.loc[:, lambda df: [x for x in df.columns if x != \"High Health Care Access\"]]\n",
    "X.head()"
   ]
  },
  {
   "cell_type": "code",
   "execution_count": 9,
   "metadata": {},
   "outputs": [
    {
     "data": {
      "text/plain": [
       "0    0.464408\n",
       "1    0.465968\n",
       "2    0.444859\n",
       "3    0.442811\n",
       "4    0.442811\n",
       "Name: High Health Care Access, dtype: float64"
      ]
     },
     "execution_count": 9,
     "metadata": {},
     "output_type": "execute_result"
    }
   ],
   "source": [
    "y = data.loc[:, \"High Health Care Access\"]\n",
    "y.head()"
   ]
  },
  {
   "cell_type": "markdown",
   "metadata": {},
   "source": [
    "### Regression"
   ]
  },
  {
   "cell_type": "code",
   "execution_count": 11,
   "metadata": {},
   "outputs": [
    {
     "data": {
      "text/plain": [
       "0.8791597863355068"
      ]
     },
     "execution_count": 11,
     "metadata": {},
     "output_type": "execute_result"
    }
   ],
   "source": [
    "from sklearn.ensemble import RandomForestRegressor\n",
    "\n",
    "model = RandomForestRegressor()\n",
    "model.fit(X, y)\n",
    "model.score(X, y)"
   ]
  },
  {
   "cell_type": "markdown",
   "metadata": {},
   "source": [
    "## Correlation Matrix"
   ]
  },
  {
   "cell_type": "code",
   "execution_count": null,
   "metadata": {},
   "outputs": [],
   "source": [
    "corr = data.corr()\n",
    "plt.figure(figsize=(10, 10))\n",
    "sns.heatmap(\n",
    "    corr,\n",
    "    cmap=\"vlag\",\n",
    "    vmin=-1,\n",
    "    vmax=1,\n",
    "    center=0,\n",
    "    annot=True,\n",
    "    fmt=\".2f\",\n",
    "    square=True,\n",
    "    linewidths=.5,\n",
    "    cbar_kws={\"shrink\": .3}\n",
    ")\n",
    "plt.xticks(rotation=45, horizontalalignment=\"right\")\n",
    "plt.yticks(rotation=45, horizontalalignment=\"right\")\n",
    "plt.title(\"Correlation\")\n",
    "plt.tight_layout()\n",
    "plt.show()\n",
    "plt.close()"
   ]
  },
  {
   "cell_type": "markdown",
   "metadata": {},
   "source": [
    "## PCA"
   ]
  },
  {
   "cell_type": "code",
   "execution_count": 12,
   "metadata": {},
   "outputs": [],
   "source": [
    "from sklearn.decomposition import PCA"
   ]
  },
  {
   "cell_type": "code",
   "execution_count": 13,
   "metadata": {},
   "outputs": [
    {
     "data": {
      "text/html": [
       "<style>#sk-container-id-1 {color: black;background-color: white;}#sk-container-id-1 pre{padding: 0;}#sk-container-id-1 div.sk-toggleable {background-color: white;}#sk-container-id-1 label.sk-toggleable__label {cursor: pointer;display: block;width: 100%;margin-bottom: 0;padding: 0.3em;box-sizing: border-box;text-align: center;}#sk-container-id-1 label.sk-toggleable__label-arrow:before {content: \"▸\";float: left;margin-right: 0.25em;color: #696969;}#sk-container-id-1 label.sk-toggleable__label-arrow:hover:before {color: black;}#sk-container-id-1 div.sk-estimator:hover label.sk-toggleable__label-arrow:before {color: black;}#sk-container-id-1 div.sk-toggleable__content {max-height: 0;max-width: 0;overflow: hidden;text-align: left;background-color: #f0f8ff;}#sk-container-id-1 div.sk-toggleable__content pre {margin: 0.2em;color: black;border-radius: 0.25em;background-color: #f0f8ff;}#sk-container-id-1 input.sk-toggleable__control:checked~div.sk-toggleable__content {max-height: 200px;max-width: 100%;overflow: auto;}#sk-container-id-1 input.sk-toggleable__control:checked~label.sk-toggleable__label-arrow:before {content: \"▾\";}#sk-container-id-1 div.sk-estimator input.sk-toggleable__control:checked~label.sk-toggleable__label {background-color: #d4ebff;}#sk-container-id-1 div.sk-label input.sk-toggleable__control:checked~label.sk-toggleable__label {background-color: #d4ebff;}#sk-container-id-1 input.sk-hidden--visually {border: 0;clip: rect(1px 1px 1px 1px);clip: rect(1px, 1px, 1px, 1px);height: 1px;margin: -1px;overflow: hidden;padding: 0;position: absolute;width: 1px;}#sk-container-id-1 div.sk-estimator {font-family: monospace;background-color: #f0f8ff;border: 1px dotted black;border-radius: 0.25em;box-sizing: border-box;margin-bottom: 0.5em;}#sk-container-id-1 div.sk-estimator:hover {background-color: #d4ebff;}#sk-container-id-1 div.sk-parallel-item::after {content: \"\";width: 100%;border-bottom: 1px solid gray;flex-grow: 1;}#sk-container-id-1 div.sk-label:hover label.sk-toggleable__label {background-color: #d4ebff;}#sk-container-id-1 div.sk-serial::before {content: \"\";position: absolute;border-left: 1px solid gray;box-sizing: border-box;top: 0;bottom: 0;left: 50%;z-index: 0;}#sk-container-id-1 div.sk-serial {display: flex;flex-direction: column;align-items: center;background-color: white;padding-right: 0.2em;padding-left: 0.2em;position: relative;}#sk-container-id-1 div.sk-item {position: relative;z-index: 1;}#sk-container-id-1 div.sk-parallel {display: flex;align-items: stretch;justify-content: center;background-color: white;position: relative;}#sk-container-id-1 div.sk-item::before, #sk-container-id-1 div.sk-parallel-item::before {content: \"\";position: absolute;border-left: 1px solid gray;box-sizing: border-box;top: 0;bottom: 0;left: 50%;z-index: -1;}#sk-container-id-1 div.sk-parallel-item {display: flex;flex-direction: column;z-index: 1;position: relative;background-color: white;}#sk-container-id-1 div.sk-parallel-item:first-child::after {align-self: flex-end;width: 50%;}#sk-container-id-1 div.sk-parallel-item:last-child::after {align-self: flex-start;width: 50%;}#sk-container-id-1 div.sk-parallel-item:only-child::after {width: 0;}#sk-container-id-1 div.sk-dashed-wrapped {border: 1px dashed gray;margin: 0 0.4em 0.5em 0.4em;box-sizing: border-box;padding-bottom: 0.4em;background-color: white;}#sk-container-id-1 div.sk-label label {font-family: monospace;font-weight: bold;display: inline-block;line-height: 1.2em;}#sk-container-id-1 div.sk-label-container {text-align: center;}#sk-container-id-1 div.sk-container {/* jupyter's `normalize.less` sets `[hidden] { display: none; }` but bootstrap.min.css set `[hidden] { display: none !important; }` so we also need the `!important` here to be able to override the default hidden behavior on the sphinx rendered scikit-learn.org. See: https://github.com/scikit-learn/scikit-learn/issues/21755 */display: inline-block !important;position: relative;}#sk-container-id-1 div.sk-text-repr-fallback {display: none;}</style><div id=\"sk-container-id-1\" class=\"sk-top-container\"><div class=\"sk-text-repr-fallback\"><pre>PCA()</pre><b>In a Jupyter environment, please rerun this cell to show the HTML representation or trust the notebook. <br />On GitHub, the HTML representation is unable to render, please try loading this page with nbviewer.org.</b></div><div class=\"sk-container\" hidden><div class=\"sk-item\"><div class=\"sk-estimator sk-toggleable\"><input class=\"sk-toggleable__control sk-hidden--visually\" id=\"sk-estimator-id-1\" type=\"checkbox\" checked><label for=\"sk-estimator-id-1\" class=\"sk-toggleable__label sk-toggleable__label-arrow\">PCA</label><div class=\"sk-toggleable__content\"><pre>PCA()</pre></div></div></div></div></div>"
      ],
      "text/plain": [
       "PCA()"
      ]
     },
     "execution_count": 13,
     "metadata": {},
     "output_type": "execute_result"
    }
   ],
   "source": [
    "pca = PCA()\n",
    "pca.fit(X)"
   ]
  },
  {
   "cell_type": "code",
   "execution_count": 14,
   "metadata": {},
   "outputs": [
    {
     "data": {
      "text/plain": [
       "array([0.27105847, 0.20001889, 0.18821967, 0.08165358, 0.06861952,\n",
       "       0.04580897, 0.04041822, 0.0343365 , 0.03060862, 0.0162466 ,\n",
       "       0.01501179, 0.00799918])"
      ]
     },
     "execution_count": 14,
     "metadata": {},
     "output_type": "execute_result"
    }
   ],
   "source": [
    "pca.explained_variance_ratio_ "
   ]
  },
  {
   "cell_type": "code",
   "execution_count": 15,
   "metadata": {},
   "outputs": [
    {
     "data": {
      "text/plain": [
       "array([0.04091633, 0.03019289, 0.02841179, 0.01232562, 0.01035813,\n",
       "       0.00691487, 0.00610114, 0.0051831 , 0.00462038, 0.00245243,\n",
       "       0.00226603, 0.00120748])"
      ]
     },
     "execution_count": 15,
     "metadata": {},
     "output_type": "execute_result"
    }
   ],
   "source": [
    "pca.explained_variance_"
   ]
  },
  {
   "cell_type": "code",
   "execution_count": 16,
   "metadata": {},
   "outputs": [
    {
     "data": {
      "text/plain": [
       "array([8.78221366, 7.54410999, 7.31821237, 4.82014507, 4.41871873,\n",
       "       3.61033719, 3.39126001, 3.12572339, 2.95117085, 2.15007537,\n",
       "       2.06675386, 1.508673  ])"
      ]
     },
     "execution_count": 16,
     "metadata": {},
     "output_type": "execute_result"
    }
   ],
   "source": [
    "pca.singular_values_"
   ]
  },
  {
   "cell_type": "code",
   "execution_count": 17,
   "metadata": {},
   "outputs": [
    {
     "name": "stderr",
     "output_type": "stream",
     "text": [
      "/tmp/ipykernel_333/2434867488.py:6: UserWarning: Matplotlib is currently using module://matplotlib_inline.backend_inline, which is a non-GUI backend, so cannot show the figure.\n",
      "  fig.show()\n"
     ]
    },
    {
     "data": {
      "image/png": "[encoded data removed]",
      "text/plain": [
       "<Figure size 576x360 with 1 Axes>"
      ]
     },
     "metadata": {
      "needs_background": "light"
     },
     "output_type": "display_data"
    }
   ],
   "source": [
    "fig, ax = plt.subplots(figsize=(8, 5))\n",
    "ax.plot(\n",
    "    np.arange(1, pca.n_components_ + 1), pca.singular_values_, \"-o\", linewidth=2\n",
    ")\n",
    "ax.set_ylabel(\"PCA singular values\")\n",
    "fig.show()"
   ]
  },
  {
   "cell_type": "code",
   "execution_count": null,
   "metadata": {},
   "outputs": [],
   "source": [
    "fig, ax = plt.subplots(figsize=(8, 5))\n",
    "ax.plot(\n",
    "    np.arange(1, pca.n_components_ + 1), pca.explained_variance_ratio_, \"-o\", linewidth=2\n",
    ")\n",
    "ax.set_ylabel(\"PCA explained variance ratio\")\n",
    "fig.show()"
   ]
  },
  {
   "cell_type": "markdown",
   "metadata": {},
   "source": [
    "## PCA N-Components"
   ]
  },
  {
   "cell_type": "code",
   "execution_count": 18,
   "metadata": {},
   "outputs": [
    {
     "data": {
      "text/html": [
       "<style>#sk-container-id-2 {color: black;background-color: white;}#sk-container-id-2 pre{padding: 0;}#sk-container-id-2 div.sk-toggleable {background-color: white;}#sk-container-id-2 label.sk-toggleable__label {cursor: pointer;display: block;width: 100%;margin-bottom: 0;padding: 0.3em;box-sizing: border-box;text-align: center;}#sk-container-id-2 label.sk-toggleable__label-arrow:before {content: \"▸\";float: left;margin-right: 0.25em;color: #696969;}#sk-container-id-2 label.sk-toggleable__label-arrow:hover:before {color: black;}#sk-container-id-2 div.sk-estimator:hover label.sk-toggleable__label-arrow:before {color: black;}#sk-container-id-2 div.sk-toggleable__content {max-height: 0;max-width: 0;overflow: hidden;text-align: left;background-color: #f0f8ff;}#sk-container-id-2 div.sk-toggleable__content pre {margin: 0.2em;color: black;border-radius: 0.25em;background-color: #f0f8ff;}#sk-container-id-2 input.sk-toggleable__control:checked~div.sk-toggleable__content {max-height: 200px;max-width: 100%;overflow: auto;}#sk-container-id-2 input.sk-toggleable__control:checked~label.sk-toggleable__label-arrow:before {content: \"▾\";}#sk-container-id-2 div.sk-estimator input.sk-toggleable__control:checked~label.sk-toggleable__label {background-color: #d4ebff;}#sk-container-id-2 div.sk-label input.sk-toggleable__control:checked~label.sk-toggleable__label {background-color: #d4ebff;}#sk-container-id-2 input.sk-hidden--visually {border: 0;clip: rect(1px 1px 1px 1px);clip: rect(1px, 1px, 1px, 1px);height: 1px;margin: -1px;overflow: hidden;padding: 0;position: absolute;width: 1px;}#sk-container-id-2 div.sk-estimator {font-family: monospace;background-color: #f0f8ff;border: 1px dotted black;border-radius: 0.25em;box-sizing: border-box;margin-bottom: 0.5em;}#sk-container-id-2 div.sk-estimator:hover {background-color: #d4ebff;}#sk-container-id-2 div.sk-parallel-item::after {content: \"\";width: 100%;border-bottom: 1px solid gray;flex-grow: 1;}#sk-container-id-2 div.sk-label:hover label.sk-toggleable__label {background-color: #d4ebff;}#sk-container-id-2 div.sk-serial::before {content: \"\";position: absolute;border-left: 1px solid gray;box-sizing: border-box;top: 0;bottom: 0;left: 50%;z-index: 0;}#sk-container-id-2 div.sk-serial {display: flex;flex-direction: column;align-items: center;background-color: white;padding-right: 0.2em;padding-left: 0.2em;position: relative;}#sk-container-id-2 div.sk-item {position: relative;z-index: 1;}#sk-container-id-2 div.sk-parallel {display: flex;align-items: stretch;justify-content: center;background-color: white;position: relative;}#sk-container-id-2 div.sk-item::before, #sk-container-id-2 div.sk-parallel-item::before {content: \"\";position: absolute;border-left: 1px solid gray;box-sizing: border-box;top: 0;bottom: 0;left: 50%;z-index: -1;}#sk-container-id-2 div.sk-parallel-item {display: flex;flex-direction: column;z-index: 1;position: relative;background-color: white;}#sk-container-id-2 div.sk-parallel-item:first-child::after {align-self: flex-end;width: 50%;}#sk-container-id-2 div.sk-parallel-item:last-child::after {align-self: flex-start;width: 50%;}#sk-container-id-2 div.sk-parallel-item:only-child::after {width: 0;}#sk-container-id-2 div.sk-dashed-wrapped {border: 1px dashed gray;margin: 0 0.4em 0.5em 0.4em;box-sizing: border-box;padding-bottom: 0.4em;background-color: white;}#sk-container-id-2 div.sk-label label {font-family: monospace;font-weight: bold;display: inline-block;line-height: 1.2em;}#sk-container-id-2 div.sk-label-container {text-align: center;}#sk-container-id-2 div.sk-container {/* jupyter's `normalize.less` sets `[hidden] { display: none; }` but bootstrap.min.css set `[hidden] { display: none !important; }` so we also need the `!important` here to be able to override the default hidden behavior on the sphinx rendered scikit-learn.org. See: https://github.com/scikit-learn/scikit-learn/issues/21755 */display: inline-block !important;position: relative;}#sk-container-id-2 div.sk-text-repr-fallback {display: none;}</style><div id=\"sk-container-id-2\" class=\"sk-top-container\"><div class=\"sk-text-repr-fallback\"><pre>PCA(n_components=4)</pre><b>In a Jupyter environment, please rerun this cell to show the HTML representation or trust the notebook. <br />On GitHub, the HTML representation is unable to render, please try loading this page with nbviewer.org.</b></div><div class=\"sk-container\" hidden><div class=\"sk-item\"><div class=\"sk-estimator sk-toggleable\"><input class=\"sk-toggleable__control sk-hidden--visually\" id=\"sk-estimator-id-2\" type=\"checkbox\" checked><label for=\"sk-estimator-id-2\" class=\"sk-toggleable__label sk-toggleable__label-arrow\">PCA</label><div class=\"sk-toggleable__content\"><pre>PCA(n_components=4)</pre></div></div></div></div></div>"
      ],
      "text/plain": [
       "PCA(n_components=4)"
      ]
     },
     "execution_count": 18,
     "metadata": {},
     "output_type": "execute_result"
    }
   ],
   "source": [
    "n = 4\n",
    "pcan = PCA(n_components=n)\n",
    "pcan.fit(X)\n"
   ]
  },
  {
   "cell_type": "code",
   "execution_count": 19,
   "metadata": {},
   "outputs": [
    {
     "data": {
      "text/html": [
       "<div>\n",
       "<style scoped>\n",
       "    .dataframe tbody tr th:only-of-type {\n",
       "        vertical-align: middle;\n",
       "    }\n",
       "\n",
       "    .dataframe tbody tr th {\n",
       "        vertical-align: top;\n",
       "    }\n",
       "\n",
       "    .dataframe thead th {\n",
       "        text-align: right;\n",
       "    }\n",
       "</style>\n",
       "<table border=\"1\" class=\"dataframe\">\n",
       "  <thead>\n",
       "    <tr style=\"text-align: right;\">\n",
       "      <th></th>\n",
       "      <th>Average Yrsof Schooling</th>\n",
       "      <th>Good Air Quality Index</th>\n",
       "      <th>High Employment Access</th>\n",
       "      <th>Income Equality GINI</th>\n",
       "      <th>Job Participation High Labor Force</th>\n",
       "      <th>Less Deprived Area Townsend Index</th>\n",
       "      <th>LILA Food Access</th>\n",
       "      <th>More Affordability Index</th>\n",
       "      <th>More Walkability Environment Index</th>\n",
       "      <th>Pop WeightedDensity</th>\n",
       "      <th>Racial Dissimilarity Index</th>\n",
       "      <th>Stables Pop Churning</th>\n",
       "    </tr>\n",
       "  </thead>\n",
       "  <tbody>\n",
       "    <tr>\n",
       "      <th>PC_1</th>\n",
       "      <td>-0.181693</td>\n",
       "      <td>-0.219464</td>\n",
       "      <td>-0.039155</td>\n",
       "      <td>-0.231765</td>\n",
       "      <td>-0.157506</td>\n",
       "      <td>-0.639811</td>\n",
       "      <td>0.111845</td>\n",
       "      <td>-0.508456</td>\n",
       "      <td>0.128682</td>\n",
       "      <td>0.065692</td>\n",
       "      <td>-0.171497</td>\n",
       "      <td>-0.328765</td>\n",
       "    </tr>\n",
       "    <tr>\n",
       "      <th>PC_2</th>\n",
       "      <td>0.203242</td>\n",
       "      <td>-0.225416</td>\n",
       "      <td>0.082194</td>\n",
       "      <td>0.058314</td>\n",
       "      <td>0.359953</td>\n",
       "      <td>-0.154934</td>\n",
       "      <td>-0.041128</td>\n",
       "      <td>0.147644</td>\n",
       "      <td>0.353368</td>\n",
       "      <td>0.192879</td>\n",
       "      <td>0.682294</td>\n",
       "      <td>-0.305067</td>\n",
       "    </tr>\n",
       "    <tr>\n",
       "      <th>PC_3</th>\n",
       "      <td>0.255027</td>\n",
       "      <td>-0.208051</td>\n",
       "      <td>0.095077</td>\n",
       "      <td>0.087153</td>\n",
       "      <td>0.369788</td>\n",
       "      <td>0.015857</td>\n",
       "      <td>-0.050728</td>\n",
       "      <td>0.269105</td>\n",
       "      <td>0.317956</td>\n",
       "      <td>0.149025</td>\n",
       "      <td>-0.709102</td>\n",
       "      <td>-0.192160</td>\n",
       "    </tr>\n",
       "    <tr>\n",
       "      <th>PC_4</th>\n",
       "      <td>0.118670</td>\n",
       "      <td>0.016249</td>\n",
       "      <td>-0.065843</td>\n",
       "      <td>-0.141248</td>\n",
       "      <td>-0.564399</td>\n",
       "      <td>0.391031</td>\n",
       "      <td>0.042693</td>\n",
       "      <td>0.166819</td>\n",
       "      <td>0.062151</td>\n",
       "      <td>0.023873</td>\n",
       "      <td>0.002238</td>\n",
       "      <td>-0.675149</td>\n",
       "    </tr>\n",
       "  </tbody>\n",
       "</table>\n",
       "</div>"
      ],
      "text/plain": [
       "      Average Yrsof Schooling  Good Air Quality Index  High Employment Access  \\\n",
       "PC_1                -0.181693               -0.219464               -0.039155   \n",
       "PC_2                 0.203242               -0.225416                0.082194   \n",
       "PC_3                 0.255027               -0.208051                0.095077   \n",
       "PC_4                 0.118670                0.016249               -0.065843   \n",
       "\n",
       "      Income Equality GINI  Job Participation High Labor Force  \\\n",
       "PC_1             -0.231765                           -0.157506   \n",
       "PC_2              0.058314                            0.359953   \n",
       "PC_3              0.087153                            0.369788   \n",
       "PC_4             -0.141248                           -0.564399   \n",
       "\n",
       "      Less Deprived Area Townsend Index  LILA Food Access  \\\n",
       "PC_1                          -0.639811          0.111845   \n",
       "PC_2                          -0.154934         -0.041128   \n",
       "PC_3                           0.015857         -0.050728   \n",
       "PC_4                           0.391031          0.042693   \n",
       "\n",
       "      More Affordability Index  More Walkability Environment Index  \\\n",
       "PC_1                 -0.508456                            0.128682   \n",
       "PC_2                  0.147644                            0.353368   \n",
       "PC_3                  0.269105                            0.317956   \n",
       "PC_4                  0.166819                            0.062151   \n",
       "\n",
       "      Pop WeightedDensity  Racial Dissimilarity Index  Stables Pop Churning  \n",
       "PC_1             0.065692                   -0.171497             -0.328765  \n",
       "PC_2             0.192879                    0.682294             -0.305067  \n",
       "PC_3             0.149025                   -0.709102             -0.192160  \n",
       "PC_4             0.023873                    0.002238             -0.675149  "
      ]
     },
     "execution_count": 19,
     "metadata": {},
     "output_type": "execute_result"
    }
   ],
   "source": [
    "pd.DataFrame(\n",
    "    pcan.components_,\n",
    "    columns=X.columns,\n",
    "    index = [f\"PC_{x}\" for x in range(1, pcan.n_components_ + 1)]\n",
    ")"
   ]
  },
  {
   "cell_type": "markdown",
   "metadata": {},
   "source": [
    "### Regression after PCA"
   ]
  },
  {
   "cell_type": "code",
   "execution_count": 22,
   "metadata": {},
   "outputs": [
    {
     "data": {
      "text/plain": [
       "0.8633963031812751"
      ]
     },
     "execution_count": 22,
     "metadata": {},
     "output_type": "execute_result"
    }
   ],
   "source": [
    "X_reduced = pcan.transform(X)\n",
    "model2 = RandomForestRegressor()\n",
    "model2.fit(X_reduced, y)\n",
    "model2.score(X_reduced, y)"
   ]
  },
  {
   "cell_type": "code",
   "execution_count": 23,
   "metadata": {},
   "outputs": [
    {
     "data": {
      "text/plain": [
       "0.8791597863355068"
      ]
     },
     "execution_count": 23,
     "metadata": {},
     "output_type": "execute_result"
    }
   ],
   "source": [
    "model.score(X, y)"
   ]
  }
 ],
 "metadata": {
  "kernelspec": {
   "display_name": "Python 3.9.13 ('pinn')",
   "language": "python",
   "name": "python3"
  },
  "language_info": {
   "codemirror_mode": {
    "name": "ipython",
    "version": 3
   },
   "file_extension": ".py",
   "mimetype": "text/x-python",
   "name": "python",
   "nbconvert_exporter": "python",
   "pygments_lexer": "ipython3",
   "version": "3.9.13"
  },
  "orig_nbformat": 4,
  "vscode": {
   "interpreter": {
    "hash": "b495ef8c557e1213b070efa440d5756e52b9d742e01b39c369ce0fdb1e54097c"
   }
  }
 },
 "nbformat": 4,
 "nbformat_minor": 2
}
